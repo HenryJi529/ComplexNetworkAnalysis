{
 "cells": [
  {
   "attachments": {},
   "cell_type": "markdown",
   "metadata": {},
   "source": [
    "# 第一讲：图论基础"
   ]
  },
  {
   "cell_type": "code",
   "execution_count": 31,
   "metadata": {},
   "outputs": [],
   "source": [
    "import matplotlib as mpl\n",
    "from matplotlib import pyplot as plt\n",
    "# 'serif', 'sans-serif', 'monospace', 'fantasy', 'cursive'\n",
    "cnFont = {'fontname':'Songti SC', 'color':'darkred', 'weight':'bold', 'size': 30}\n",
    "plt.rcParams['figure.dpi'] = 400\n",
    "import seaborn as sns\n",
    "import scienceplots\n",
    "import numpy as np\n",
    "import scipy\n",
    "import pandas as pd\n",
    "from pandas import Series,DataFrame\n",
    "pd.set_option('display.max_columns',100)\n",
    "pd.set_option('display.max_rows',100)\n",
    "\n",
    "import networkx as nx\n",
    "import igraph as ig"
   ]
  },
  {
   "attachments": {},
   "cell_type": "markdown",
   "metadata": {},
   "source": [
    "## 绘制无方无权图"
   ]
  },
  {
   "cell_type": "code",
   "execution_count": 32,
   "metadata": {},
   "outputs": [],
   "source": [
    "G = nx.Graph()\n",
    "G.add_nodes_from([1, 2, 3, 4])\n",
    "G.add_edges_from([(1, 2), (1, 3), (2, 3),(2, 4)])\n",
    "# nx.draw(G, node_size=100, with_labels=True)\n",
    "# plt.show()"
   ]
  },
  {
   "attachments": {},
   "cell_type": "markdown",
   "metadata": {},
   "source": [
    "## 图与邻接矩阵"
   ]
  },
  {
   "cell_type": "code",
   "execution_count": 33,
   "metadata": {},
   "outputs": [
    {
     "name": "stdout",
     "output_type": "stream",
     "text": [
      "<class 'scipy.sparse._arrays.csr_array'>\n",
      "<class 'numpy.ndarray'>\n"
     ]
    }
   ],
   "source": [
    "# 获取图的邻接矩阵\n",
    "As = nx.adjacency_matrix(G)\n",
    "A = As.todense()\n",
    "# A = nx.to_numpy_array(G,dtype=np.int64)\n",
    "print(type(As))\n",
    "# print(As)\n",
    "print(type(A))\n",
    "# print(A)"
   ]
  },
  {
   "cell_type": "code",
   "execution_count": 34,
   "metadata": {},
   "outputs": [],
   "source": [
    "# 已知图的邻接矩阵，创建图\n",
    "A = np.array([[0,1,1], [1,0,1], [1,1,0]])\n",
    "G = nx.from_numpy_array(A)\n",
    "# nx.draw(G, node_size=500, with_labels=True)"
   ]
  },
  {
   "attachments": {},
   "cell_type": "markdown",
   "metadata": {},
   "source": [
    "## 加权图"
   ]
  },
  {
   "cell_type": "code",
   "execution_count": 35,
   "metadata": {},
   "outputs": [
    {
     "name": "stdout",
     "output_type": "stream",
     "text": [
      "[[0.  3.  1.5]\n",
      " [3.  0.  7.5]\n",
      " [1.5 7.5 0. ]]\n"
     ]
    }
   ],
   "source": [
    "G = nx.Graph()\n",
    "G.add_weighted_edges_from([(0,1,3.0),(1,2,7.5),(0,2,1.5)])\n",
    "As = nx.adjacency_matrix(G)\n",
    "print(As.todense())"
   ]
  },
  {
   "attachments": {},
   "cell_type": "markdown",
   "metadata": {},
   "source": [
    "## 有向图"
   ]
  },
  {
   "cell_type": "code",
   "execution_count": 36,
   "metadata": {},
   "outputs": [],
   "source": [
    "G = nx.DiGraph()\n",
    "G.add_nodes_from([1,2,3,4])\n",
    "G.add_edges_from([(1,2),(1,3),(2,3),(2,4),(3,4)])\n",
    "# nx.draw(G,node_size=500, with_labels=True)"
   ]
  },
  {
   "attachments": {},
   "cell_type": "markdown",
   "metadata": {},
   "source": [
    "## 度、平均度以及度分布"
   ]
  },
  {
   "cell_type": "code",
   "execution_count": 37,
   "metadata": {},
   "outputs": [
    {
     "name": "stdout",
     "output_type": "stream",
     "text": [
      "<class 'networkx.classes.reportviews.DegreeView'>\n",
      "{1: 3, 2: 3, 3: 3, 4: 2, 5: 1}\n",
      "度:  {1: 3, 2: 3, 3: 3, 4: 2, 5: 1}\n",
      "平均度: 2.4\n",
      "频数: [0, 1, 1, 3]\n",
      "最大度: 3\n"
     ]
    }
   ],
   "source": [
    "G = nx.Graph()\n",
    "G.add_nodes_from([1,2,3,4,5])\n",
    "G.add_edges_from([(1,2),(1,3),(2,3),(2,4),(3,4),(1,5)])\n",
    "# 网络G的度\n",
    "degree_view = nx.degree(G)\n",
    "print(type(degree_view))\n",
    "degree = dict(degree_view)\n",
    "print(degree)\n",
    "print(\"度: \", degree)\n",
    "print(f\"平均度: {sum(degree.values())/len(G.nodes)}\")\n",
    "# 获取度分布\n",
    "degree_histogram = nx.degree_histogram(G)\n",
    "print(f\"频数: {degree_histogram}\")\n",
    "maxDegree = max(degree.values())\n",
    "print(f\"最大度: {maxDegree}\")\n",
    "# 绘制分布直方图\n",
    "with plt.style.context('ggplot'):\n",
    "    x = list(range(0, maxDegree+1))\n",
    "    y = [i/len(G.nodes) for i in nx.degree_histogram(G)]\n",
    "    fig, ax = plt.subplots(1, 1, figsize=(10,5))\n",
    "    plt.bar(x, y, width=0.5, color='red')\n",
    "    ax.set_xlabel('$k$')\n",
    "    ax.set_ylabel('$P(k)$')\n",
    "    ax.set_xticks(x)\n"
   ]
  },
  {
   "attachments": {},
   "cell_type": "markdown",
   "metadata": {},
   "source": [
    "## 路径与距离"
   ]
  },
  {
   "cell_type": "code",
   "execution_count": 38,
   "metadata": {},
   "outputs": [],
   "source": [
    "G = nx.Graph()\n",
    "G.add_nodes_from([1,2,3,4,5,6,7])\n",
    "G.add_edges_from([(1,2),(2,3),(2,5),(3,4),(5,3),(5,6),(5,7),(4,7)])\n",
    "# nx.draw(G, node_size=500,with_labels=True)"
   ]
  },
  {
   "cell_type": "code",
   "execution_count": 39,
   "metadata": {},
   "outputs": [
    {
     "name": "stdout",
     "output_type": "stream",
     "text": [
      "最短路径: [[3, 4, 7], [3, 5, 7]]\n",
      "距离: 3\n",
      "平均距离: 1.8095\n"
     ]
    }
   ],
   "source": [
    "# 最短路径\n",
    "shortest_path = nx.shortest_path(G, source=1, target=7)\n",
    "shortest_paths = list(nx.all_shortest_paths(G, source=3, target=7))\n",
    "print(f\"最短路径: {shortest_paths}\")\n",
    "# 最短路径长度(距离)\n",
    "distance = nx.shortest_path_length(G, source=1, target=4)\n",
    "print(f\"距离: {distance}\")\n",
    "# 整个网络的平均距离\n",
    "averageDistance = nx.average_shortest_path_length(G)\n",
    "print(f\"平均距离: {round(averageDistance,4)}\")"
   ]
  },
  {
   "attachments": {},
   "cell_type": "markdown",
   "metadata": {},
   "source": [
    "## 连通性"
   ]
  },
  {
   "cell_type": "code",
   "execution_count": 40,
   "metadata": {},
   "outputs": [
    {
     "data": {
      "text/plain": [
       "True"
      ]
     },
     "execution_count": 40,
     "metadata": {},
     "output_type": "execute_result"
    }
   ],
   "source": [
    "nx.is_connected(G)"
   ]
  },
  {
   "attachments": {},
   "cell_type": "markdown",
   "metadata": {},
   "source": [
    "### 获得网络的最大连通子图"
   ]
  },
  {
   "cell_type": "code",
   "execution_count": 41,
   "metadata": {},
   "outputs": [],
   "source": [
    "G = nx.Graph()\n",
    "G.add_nodes_from([1,2,3,4,5,6,7,8,9])\n",
    "G.add_edges_from([(1,2),(2,3),(2,4),(2,5),(4,5),(4,6),(4,7),(5,7),(8,9)])\n",
    "# nx.draw(G, node_size=500, with_labels=True)\n",
    "# plt.show()"
   ]
  },
  {
   "cell_type": "code",
   "execution_count": 42,
   "metadata": {},
   "outputs": [
    {
     "name": "stdout",
     "output_type": "stream",
     "text": [
      "False\n",
      "2\n"
     ]
    }
   ],
   "source": [
    "# 首先判断网络的连通性\n",
    "print(nx.is_connected(G))\n",
    "# 获取连通组件（子图）的数量\n",
    "print(nx.number_connected_components(G))"
   ]
  },
  {
   "cell_type": "code",
   "execution_count": 43,
   "metadata": {},
   "outputs": [],
   "source": [
    "# 获取所有连通子图：降序排序\n",
    "Gcc = sorted(nx.connected_components(G), key=len, reverse=True)\n",
    "# 获取最大连通子图\n",
    "largest_cc = G.subgraph(Gcc[0])\n",
    "# nx.draw(largest_cc, node_size=500, with_labels=True)\n",
    "# plt.show()"
   ]
  },
  {
   "cell_type": "code",
   "execution_count": 44,
   "metadata": {},
   "outputs": [],
   "source": [
    "# largest_cc.add_edge(3,6) # 连通子图不支持修改：NetworkXError: Frozen graph can't be modified\n",
    "# 可以复制，在复制的图上修改\n",
    "LCC = largest_cc.copy()\n",
    "LCC.add_edge(3,6)\n",
    "# nx.draw(LCC, node_size=500, with_labels=True)\n",
    "# plt.show()"
   ]
  },
  {
   "attachments": {},
   "cell_type": "markdown",
   "metadata": {},
   "source": [
    "## 集聚系数"
   ]
  },
  {
   "cell_type": "code",
   "execution_count": 45,
   "metadata": {},
   "outputs": [
    {
     "name": "stdout",
     "output_type": "stream",
     "text": [
      "0.16666666666666666\n",
      "0.375\n",
      "0.24074074074074073\n"
     ]
    }
   ],
   "source": [
    "# 节点集聚系数\n",
    "print(nx.clustering(G,2))\n",
    "# 全局集聚系数\n",
    "print(nx.transitivity(G))\n",
    "# 平均集聚系数\n",
    "print(nx.average_clustering(G))"
   ]
  },
  {
   "attachments": {},
   "cell_type": "markdown",
   "metadata": {},
   "source": [
    "## 邻居"
   ]
  },
  {
   "cell_type": "code",
   "execution_count": null,
   "metadata": {},
   "outputs": [],
   "source": [
    "# 获取指定节点的邻居\n",
    "print(list(nx.neighbors(G, 2)))\n",
    "# 获取指定节点的非邻居\n",
    "print(list(nx.non_neighbors(G, 2)))\n",
    "# 获取图中两个节点的公共邻居\n",
    "print(list(nx.common_neighbors(G, 2, 4)))"
   ]
  },
  {
   "attachments": {},
   "cell_type": "markdown",
   "metadata": {},
   "source": [
    "## 其他矩阵"
   ]
  },
  {
   "cell_type": "code",
   "execution_count": null,
   "metadata": {},
   "outputs": [],
   "source": [
    "# 返回G的关联矩阵：N*M，N为节点数，M为连边数\n",
    "IM = nx.incidence_matrix(G)\n",
    "IM.todense()"
   ]
  },
  {
   "cell_type": "code",
   "execution_count": null,
   "metadata": {},
   "outputs": [],
   "source": [
    "# 返回G的拉普拉斯矩阵\n",
    "Ls = nx.laplacian_matrix(G)\n",
    "# print(Ls)\n",
    "L = Ls.todense()  # L = D - A，D为节点度组成的对角矩阵，A为邻接矩阵\n",
    "print(L)"
   ]
  },
  {
   "attachments": {},
   "cell_type": "markdown",
   "metadata": {},
   "source": [
    "标准化的拉普拉斯矩阵如下：\n",
    "$$\n",
    "N=D^{-1 / 2} L D^{-1 / 2}\n",
    "$$"
   ]
  },
  {
   "cell_type": "code",
   "execution_count": null,
   "metadata": {},
   "outputs": [],
   "source": [
    "# 返回G的标准化拉普拉斯矩阵\n",
    "NLs = nx.normalized_laplacian_matrix(G)\n",
    "NL = NLs.todense()\n",
    "print(NL)"
   ]
  },
  {
   "cell_type": "code",
   "execution_count": 46,
   "metadata": {},
   "outputs": [
    {
     "name": "stdout",
     "output_type": "stream",
     "text": [
      "[ 2.83206645e+00 -2.07484993e+00  1.06166256e+00 -1.37057214e+00\n",
      " -7.57216519e-01 -9.17257515e-17  3.08909585e-01  1.00000000e+00\n",
      " -1.00000000e+00]\n"
     ]
    }
   ],
   "source": [
    "# 计算邻接矩阵的特征值\n",
    "print(np.real(nx.adjacency_spectrum(G)))"
   ]
  },
  {
   "cell_type": "code",
   "execution_count": null,
   "metadata": {},
   "outputs": [],
   "source": [
    "# 计算拉普拉斯矩阵的特征值：第一个特征值通常为0\n",
    "print(np.real(nx.laplacian_spectrum(G)))"
   ]
  }
 ],
 "metadata": {
  "kernelspec": {
   "display_name": "VENV",
   "language": "python",
   "name": "python3"
  },
  "language_info": {
   "codemirror_mode": {
    "name": "ipython",
    "version": 3
   },
   "file_extension": ".py",
   "mimetype": "text/x-python",
   "name": "python",
   "nbconvert_exporter": "python",
   "pygments_lexer": "ipython3",
   "version": "3.10.9"
  },
  "orig_nbformat": 4,
  "vscode": {
   "interpreter": {
    "hash": "448371ebf76839910da8f88b99d1f6fb835f93ac8d6fe7b654851b55247d2370"
   }
  }
 },
 "nbformat": 4,
 "nbformat_minor": 2
}
